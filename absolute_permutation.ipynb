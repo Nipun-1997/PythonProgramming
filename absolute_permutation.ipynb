# Online Python compiler (interpreter) to run Python online.
# Write Python 3 code in this online editor and run it.
# Online Python compiler (interpreter) to run Python online.
# Write Python 3 code in this online editor and run it.
def absolutePermutation(n, k):
    # Write your code here
    new_list=[0]*n
    for number in range(1,n+1):
        #print(number)
        
        if number <=k:
            
            index_value=(number-(-k))-1
            
       
            
      
        else:
            
            index_value=number-k-1
          
        if index_value>=len(new_list) or new_list[index_value]!=0 :
            #print("Here")
            return -1
        else:
            #print(number)
            new_list[index_value]=number
    return new_list  
print(absolutePermutation(94,47))    