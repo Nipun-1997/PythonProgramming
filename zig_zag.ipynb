def findZigZagSequence(a):
    b=sorted(a)
    mid = int(len(a)/2)
    
    mid_end=[]
    for index in range(mid,len(b)):
        
        mid_end.append(b[index])
       
    sorted_mid=sorted(mid_end,reverse=True)
    
    new_array=b[:mid]+sorted_mid    
    
print(findZigZagSequence([1,2,3,4,5,6,7]))   